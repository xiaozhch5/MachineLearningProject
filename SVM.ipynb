{
 "cells": [
  {
   "cell_type": "markdown",
   "metadata": {},
   "source": [
    "# 利用SVM处理线性不可分情况"
   ]
  },
  {
   "cell_type": "markdown",
   "metadata": {},
   "source": [
    "假如我们有一个数据集，在这个数据集中有两类数，标签分别为“0”和“1”，那么我们如何去区分这两类数据呢？要是有其他的数据，那么那个其他的数据要归为哪一类呢？\n",
    "\n",
    "最简单的情况是这个数据集中的两类数据是<span class=\"mark\">线性可分</span>的，也就是说不对原始数据集进行处理，可以找打一个超平面用来直接将这两类数据区分开来。这个时候就相对简单了，具体可以参考：[支持向量机（SVM）](https://love.lrting.top/archives/690)\n",
    "\n",
    "\n",
    "还有一种情况是这两类数据<span class=\"mark\">线性不可分</span>的，这个时候，另一种方法就派上用场了---支持向量机（SVM）。那么什么是支持向量机是如何区分非线性可分的数据集呢？简单来说就是对原始数据进行维度变换，一般是扩维变换，使得原样本空间中的样本点线性不可分，但是在变换维度之后的高维空间中线性可分，最后在变换后的高维空间中进行分类。\n",
    "\n",
    "令$\\phi$(x)表示将x 后的特征向量，于是在特征空间中的划分超平面变为：\n",
    "\\begin{equation}\\label{1}\n",
    "f(x) = w^T \\phi(x)  + b\n",
    "\\end{equation}\n",
    "而对偶问题变为：\n",
    "\\begin{equation}\\label{2}\n",
    "\\max_\\alpha \\sum_{i=1}^m\\alpha_i - \\frac{1}{2}\\sum_{i=1}^m\\sum_{j=1}^m\\alpha_i\\alpha_jy_iy_jk(x_i, y_i), \\ \\ \\ \\ \\ k(x_i, y_i) = \\phi(x_i) \\phi(x_j)\n",
    "\\end{equation}\n",
    "\\begin{equation}\\label{3}\n",
    "s.t. \\sum_{i=1}^m\\alpha_iy_i=0, \\alpha_i > 0, i = 1, 2,... , m\n",
    "\\end{equation}\n",
    "其中<span class=\"burk\"><span class=\"girk\">k为核函数</span></span>。"
   ]
  },
  {
   "cell_type": "markdown",
   "metadata": {},
   "source": [
    "# 常用核函数"
   ]
  },
  {
   "cell_type": "markdown",
   "metadata": {},
   "source": [
    "$k(x_i, x_j) = $\n",
    "\n",
    "线性核函数：$x_i^Tx_j$\n",
    "\n",
    "多项式核函数：$(x_i^Tx_j)^d$\n",
    "\n",
    "高斯核函数：$e^{-\\frac{||x_i-x_j||^2}{2\\sigma^2}}$\n",
    "\n",
    "拉普拉斯核函数：$e^{-\\frac{||x_i-x_j||}{\\sigma}}$\n",
    "\n",
    "Sigmoid核函数：$\\tanh(\\beta x_i^Tx_j + \\theta)$"
   ]
  },
  {
   "cell_type": "markdown",
   "metadata": {},
   "source": [
    "# 使用sklearn做SVM分类"
   ]
  },
  {
   "cell_type": "code",
   "execution_count": 1,
   "metadata": {},
   "outputs": [],
   "source": [
    "from sklearn.model_selection import train_test_split\n",
    "from sklearn.svm import SVC\n",
    "import numpy as np\n",
    "import scipy.io as scio  # 读取matlab生成的mat文件"
   ]
  },
  {
   "cell_type": "code",
   "execution_count": null,
   "metadata": {},
   "outputs": [],
   "source": [
    "# 数据读取\n",
    "result_tamper = scio.loadmat('result_tamper.mat')  # 读入字典\n",
    "result_original = scio.loadmat('result_original.mat')\n",
    "tamper_result = []\n",
    "original_result = []\n",
    "\n",
    "\n",
    "# 数据处理\n",
    "for i in range(100):\n",
    "    tamper_result.append(result_tamper['result_tamper'][i][0])\n",
    "    original_result.append(result_original['result_original'][i][0])\n",
    "tamper_result_array = np.array(tamper_result)  # shape为（100， 3， 1800）\n",
    "original_result_array = np.array(original_result)  # shape为（100， 3， 1800）\n",
    "result = np.concatenate((tamper_result_array[0:100], original_result_array[0:100]), axis=0)\n",
    "label = np.array([1] * 100 + [0] * 100)\n",
    "\n",
    "\n",
    "# 交叉验证\n",
    "X_train, X_test, y_train, y_test = train_test_split(result, label, random_state=1, train_size=0.68)\n",
    "\n",
    "X_train = np.reshape(X_train, (-1, 3000))\n",
    "X_test = np.reshape(X_test, (-1, 3000))\n",
    "X_train = X_train[:,1000:3000]\n",
    "X_test = X_test[:, 1000:3000]\n",
    "\n",
    "\n",
    "# 配置SVC\n",
    "svc = SVC(kernel='rbf', degree=100, gamma=1, coef0=1, C=90)\n",
    "\n",
    "# 训练\n",
    "svc.fit(X_train, y_train)\n",
    "\n",
    "# 测试\n",
    "svc.score(X_test, y_test)"
   ]
  }
 ],
 "metadata": {
  "kernelspec": {
   "display_name": "Python 3",
   "language": "python",
   "name": "python3"
  },
  "language_info": {
   "codemirror_mode": {
    "name": "ipython",
    "version": 3
   },
   "file_extension": ".py",
   "mimetype": "text/x-python",
   "name": "python",
   "nbconvert_exporter": "python",
   "pygments_lexer": "ipython3",
   "version": "3.6.8"
  },
  "latex_envs": {
   "LaTeX_envs_menu_present": true,
   "autoclose": false,
   "autocomplete": true,
   "bibliofile": "biblio.bib",
   "cite_by": "apalike",
   "current_citInitial": 1,
   "eqLabelWithNumbers": true,
   "eqNumInitial": 1,
   "hotkeys": {
    "equation": "Ctrl-E",
    "itemize": "Ctrl-I"
   },
   "labels_anchors": false,
   "latex_user_defs": false,
   "report_style_numbering": false,
   "user_envs_cfg": false
  },
  "toc": {
   "base_numbering": 1,
   "nav_menu": {},
   "number_sections": true,
   "sideBar": true,
   "skip_h1_title": false,
   "title_cell": "Table of Contents",
   "title_sidebar": "Contents",
   "toc_cell": false,
   "toc_position": {},
   "toc_section_display": true,
   "toc_window_display": false
  }
 },
 "nbformat": 4,
 "nbformat_minor": 2
}
